{
 "cells": [
  {
   "cell_type": "code",
   "execution_count": 123,
   "id": "4ff23f24",
   "metadata": {},
   "outputs": [
    {
     "name": "stderr",
     "output_type": "stream",
     "text": [
      "[nltk_data] Downloading package stopwords to\n",
      "[nltk_data]     C:\\Users\\Administrator\\AppData\\Roaming\\nltk_data...\n",
      "[nltk_data]   Package stopwords is already up-to-date!\n",
      "[nltk_data] Downloading package punkt to\n",
      "[nltk_data]     C:\\Users\\Administrator\\AppData\\Roaming\\nltk_data...\n",
      "[nltk_data]   Package punkt is already up-to-date!\n",
      "[nltk_data] Downloading package wordnet to\n",
      "[nltk_data]     C:\\Users\\Administrator\\AppData\\Roaming\\nltk_data...\n",
      "[nltk_data]   Package wordnet is already up-to-date!\n"
     ]
    }
   ],
   "source": [
    "import re\n",
    "import pickle\n",
    "import pandas as pd\n",
    "import seaborn as sns\n",
    "import matplotlib.pyplot as plt\n",
    "import nltk\n",
    "from nltk.corpus import stopwords\n",
    "nltk.download('stopwords')\n",
    "nltk.download('punkt')\n",
    "from nltk.tokenize import word_tokenize\n",
    "from nltk.stem.wordnet import WordNetLemmatizer\n",
    "nltk.download('wordnet')\n",
    "from nltk.stem import PorterStemmer\n",
    "import tensorflow as tf\n",
    "from tensorflow.keras.preprocessing.text import Tokenizer\n",
    "from tensorflow.keras.preprocessing.sequence import pad_sequences"
   ]
  },
  {
   "cell_type": "code",
   "execution_count": 124,
   "id": "7085d167",
   "metadata": {},
   "outputs": [
    {
     "data": {
      "text/html": [
       "<div>\n",
       "<style scoped>\n",
       "    .dataframe tbody tr th:only-of-type {\n",
       "        vertical-align: middle;\n",
       "    }\n",
       "\n",
       "    .dataframe tbody tr th {\n",
       "        vertical-align: top;\n",
       "    }\n",
       "\n",
       "    .dataframe thead th {\n",
       "        text-align: right;\n",
       "    }\n",
       "</style>\n",
       "<table border=\"1\" class=\"dataframe\">\n",
       "  <thead>\n",
       "    <tr style=\"text-align: right;\">\n",
       "      <th></th>\n",
       "      <th>text</th>\n",
       "      <th>target</th>\n",
       "    </tr>\n",
       "  </thead>\n",
       "  <tbody>\n",
       "    <tr>\n",
       "      <th>0</th>\n",
       "      <td>Our Deeds are the Reason of this #earthquake M...</td>\n",
       "      <td>1</td>\n",
       "    </tr>\n",
       "    <tr>\n",
       "      <th>1</th>\n",
       "      <td>Forest fire near La Ronge Sask. Canada</td>\n",
       "      <td>1</td>\n",
       "    </tr>\n",
       "    <tr>\n",
       "      <th>2</th>\n",
       "      <td>All residents asked to 'shelter in place' are ...</td>\n",
       "      <td>1</td>\n",
       "    </tr>\n",
       "    <tr>\n",
       "      <th>3</th>\n",
       "      <td>13,000 people receive #wildfires evacuation or...</td>\n",
       "      <td>1</td>\n",
       "    </tr>\n",
       "    <tr>\n",
       "      <th>4</th>\n",
       "      <td>Just got sent this photo from Ruby #Alaska as ...</td>\n",
       "      <td>1</td>\n",
       "    </tr>\n",
       "  </tbody>\n",
       "</table>\n",
       "</div>"
      ],
      "text/plain": [
       "                                                text  target\n",
       "0  Our Deeds are the Reason of this #earthquake M...       1\n",
       "1             Forest fire near La Ronge Sask. Canada       1\n",
       "2  All residents asked to 'shelter in place' are ...       1\n",
       "3  13,000 people receive #wildfires evacuation or...       1\n",
       "4  Just got sent this photo from Ruby #Alaska as ...       1"
      ]
     },
     "execution_count": 124,
     "metadata": {},
     "output_type": "execute_result"
    }
   ],
   "source": [
    "#load the dataset\n",
    "tweets_dataframe = pd.read_csv(\"train.csv\")\n",
    "#Remove the id, keyword and location column \n",
    "tweets_dataframe = tweets_dataframe.iloc[:, 3:]\n",
    "tweets_dataframe.head()"
   ]
  },
  {
   "cell_type": "code",
   "execution_count": 125,
   "id": "7b9900f9",
   "metadata": {},
   "outputs": [
    {
     "name": "stdout",
     "output_type": "stream",
     "text": [
      "The text column has 0 null values\n",
      "The target column has 0 null values\n"
     ]
    }
   ],
   "source": [
    "#Check if the dataset has any null values\n",
    "print(\"The text column has \" + str(tweets_dataframe['text'].isna().sum()) + \" null values\")\n",
    "print(\"The target column has \" + str(tweets_dataframe['target'].isna().sum()) + \" null values\")"
   ]
  },
  {
   "cell_type": "code",
   "execution_count": 126,
   "id": "4f2c3aeb",
   "metadata": {},
   "outputs": [
    {
     "name": "stdout",
     "output_type": "stream",
     "text": [
      "There are 4342 samples of tweets that don't report any disasters\n",
      "There are 3271 samples of tweets that report valid disasters\n"
     ]
    },
    {
     "data": {
      "image/png": "[encoded data removed]",
      "text/plain": [
       "<Figure size 432x288 with 1 Axes>"
      ]
     },
     "metadata": {
      "needs_background": "light"
     },
     "output_type": "display_data"
    }
   ],
   "source": [
    "#Check the distribution of the data\n",
    "df = tweets_dataframe.groupby(\"target\").count()\n",
    "x = df.index\n",
    "y = df[\"text\"]\n",
    "\n",
    "sns.barplot(x = x, y = y , color = \"Red\")\n",
    "plt.xlabel(\"Real and Fake Tweets \")\n",
    "plt.ylabel(\"Number of Tweets\")\n",
    "plt.title(\"Number of Real(1) and Fake(0) Tweets\")\n",
    "\n",
    "\n",
    "print(\"There are \" + str(y[0]) + \" samples of tweets that don't report any disasters\")\n",
    "print(\"There are \" + str(y[1]) + \" samples of tweets that report valid disasters\") "
   ]
  },
  {
   "cell_type": "code",
   "execution_count": 127,
   "id": "086e1bd2",
   "metadata": {},
   "outputs": [
    {
     "data": {
      "text/html": [
       "<div>\n",
       "<style scoped>\n",
       "    .dataframe tbody tr th:only-of-type {\n",
       "        vertical-align: middle;\n",
       "    }\n",
       "\n",
       "    .dataframe tbody tr th {\n",
       "        vertical-align: top;\n",
       "    }\n",
       "\n",
       "    .dataframe thead th {\n",
       "        text-align: right;\n",
       "    }\n",
       "</style>\n",
       "<table border=\"1\" class=\"dataframe\">\n",
       "  <thead>\n",
       "    <tr style=\"text-align: right;\">\n",
       "      <th></th>\n",
       "      <th>text</th>\n",
       "      <th>target</th>\n",
       "    </tr>\n",
       "  </thead>\n",
       "  <tbody>\n",
       "    <tr>\n",
       "      <th>0</th>\n",
       "      <td>Our Deeds are the Reason of this earthquake Ma...</td>\n",
       "      <td>1</td>\n",
       "    </tr>\n",
       "    <tr>\n",
       "      <th>1</th>\n",
       "      <td>Forest fire near La Ronge Sask Canada</td>\n",
       "      <td>1</td>\n",
       "    </tr>\n",
       "    <tr>\n",
       "      <th>2</th>\n",
       "      <td>All residents asked to shelter in place are be...</td>\n",
       "      <td>1</td>\n",
       "    </tr>\n",
       "    <tr>\n",
       "      <th>3</th>\n",
       "      <td>people receive wildfires evacuation orders in...</td>\n",
       "      <td>1</td>\n",
       "    </tr>\n",
       "    <tr>\n",
       "      <th>4</th>\n",
       "      <td>Just got sent this photo from Ruby Alaska as s...</td>\n",
       "      <td>1</td>\n",
       "    </tr>\n",
       "  </tbody>\n",
       "</table>\n",
       "</div>"
      ],
      "text/plain": [
       "                                                text  target\n",
       "0  Our Deeds are the Reason of this earthquake Ma...       1\n",
       "1              Forest fire near La Ronge Sask Canada       1\n",
       "2  All residents asked to shelter in place are be...       1\n",
       "3   people receive wildfires evacuation orders in...       1\n",
       "4  Just got sent this photo from Ruby Alaska as s...       1"
      ]
     },
     "execution_count": 127,
     "metadata": {},
     "output_type": "execute_result"
    }
   ],
   "source": [
    "#Clean the data \n",
    "\n",
    "#funtion for removing any links to websites and remove numbers \n",
    "def remove_link_num(text):\n",
    "    url = re.compile(r'http\\S+|www\\S+|@\\S+|#\\S+|[0-9]+')\n",
    "    return url.sub(r'',text)\n",
    "\n",
    "#function removing punctuations\n",
    "def remove_punctuations(text):\n",
    "    result = re.sub(r'[^\\w\\s]', '', text)\n",
    "    return result\n",
    "\n",
    "tweets_dataframe['text'] = tweets_dataframe['text'].apply(lambda x: remove_punctuations(x))\n",
    "tweets_dataframe['text'] = tweets_dataframe['text'].apply(lambda x: remove_link_num(x))\n",
    "\n",
    "tweets_dataframe.head()"
   ]
  },
  {
   "cell_type": "code",
   "execution_count": 128,
   "id": "efe1c7fc",
   "metadata": {},
   "outputs": [],
   "source": [
    "#function to tokenize the text\n",
    "def tokenize(text):\n",
    "    result = word_tokenize(text)\n",
    "    return result\n",
    "\n",
    "#function to remove stopwords\n",
    "def remove_stopwords(tokenized_sentence):\n",
    "    result = [word for word in tokenized_sentence if word not in stopwords.words()]\n",
    "    return result\n",
    "\n",
    "#function to lemmatize the sentences in the text\n",
    "def lemmatize_text(cleaned_tokenized_sentence):\n",
    "    lemmatizer = WordNetLemmatizer()\n",
    "    result = [lemmatizer.lemmatize((word)) for word in cleaned_tokenized_sentence]\n",
    "    return result \n",
    "\n",
    "#function to stem the sentences in the text\n",
    "def stem_text(cleaned_tokenized_sentence):\n",
    "    stemmer = PorterStemmer()\n",
    "    result = [stemmer.stem(word) for word in cleaned_tokenized_sentence]\n",
    "    return result"
   ]
  },
  {
   "cell_type": "code",
   "execution_count": 129,
   "id": "8f19f6f3",
   "metadata": {},
   "outputs": [],
   "source": [
    "#a different way to tokenize and padd the text\n",
    "text_data = tweets_dataframe.text\n",
    "labels = tweets_dataframe.target\n",
    "tokenizer = Tokenizer(num_words = 1000 , oov_token = \"<OUT>\")\n",
    "tokenizer.fit_on_texts(text_data)\n",
    "\n",
    "tokenized_sentences = tokenizer.texts_to_sequences(text_data)\n",
    "padded_sentences = pad_sequences(tokenized_sentences , truncating = 'post' , maxlen = 25)"
   ]
  },
  {
   "cell_type": "code",
   "execution_count": 130,
   "id": "2a0de751",
   "metadata": {},
   "outputs": [],
   "source": [
    "with open('dataset.pickle', 'wb') as f:\n",
    "    pickle.dump(padded_sentences , f)\n",
    "    \n",
    "with open('labels.pickle', 'wb') as f:\n",
    "    pickle.dump(labels , f)\n",
    "    \n",
    "with open('tokenizer.pickle' , 'wb') as f:\n",
    "    pickle.dump(tokenizer , f)"
   ]
  }
 ],
 "metadata": {
  "kernelspec": {
   "display_name": "Python 3 (ipykernel)",
   "language": "python",
   "name": "python3"
  },
  "language_info": {
   "codemirror_mode": {
    "name": "ipython",
    "version": 3
   },
   "file_extension": ".py",
   "mimetype": "text/x-python",
   "name": "python",
   "nbconvert_exporter": "python",
   "pygments_lexer": "ipython3",
   "version": "3.9.7"
  }
 },
 "nbformat": 4,
 "nbformat_minor": 5
}
