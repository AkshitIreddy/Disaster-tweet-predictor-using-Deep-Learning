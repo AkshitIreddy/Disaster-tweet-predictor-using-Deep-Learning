{
 "cells": [
  {
   "cell_type": "code",
   "execution_count": 1,
   "id": "8aa73155",
   "metadata": {},
   "outputs": [],
   "source": [
    "import tensorflow as tf\n",
    "import pickle\n",
    "import numpy"
   ]
  },
  {
   "cell_type": "code",
   "execution_count": 2,
   "id": "32c88676",
   "metadata": {},
   "outputs": [],
   "source": [
    "#Load the dataset\n",
    "with open('dataset.pickle', 'rb') as f:\n",
    "    dataset = pickle.load(f)\n",
    "    \n",
    "#load the labels\n",
    "with open('labels.pickle', 'rb') as f:\n",
    "    labels = pickle.load(f)\n",
    "    \n",
    "#load the tokenizer\n",
    "with open('tokenizer.pickle', 'rb') as f:\n",
    "    tokenizer = pickle.load(f)"
   ]
  },
  {
   "cell_type": "code",
   "execution_count": 3,
   "id": "2651f63a",
   "metadata": {},
   "outputs": [
    {
     "name": "stdout",
     "output_type": "stream",
     "text": [
      "Model: \"sequential\"\n",
      "_________________________________________________________________\n",
      "Layer (type)                 Output Shape              Param #   \n",
      "=================================================================\n",
      "embedding (Embedding)        (None, 25, 15)            15000     \n",
      "_________________________________________________________________\n",
      "bidirectional (Bidirectional (None, 128)               40960     \n",
      "_________________________________________________________________\n",
      "dense (Dense)                (None, 16)                2064      \n",
      "_________________________________________________________________\n",
      "dense_1 (Dense)              (None, 32)                544       \n",
      "_________________________________________________________________\n",
      "dense_2 (Dense)              (None, 16)                528       \n",
      "_________________________________________________________________\n",
      "dense_3 (Dense)              (None, 1)                 17        \n",
      "=================================================================\n",
      "Total params: 59,113\n",
      "Trainable params: 59,113\n",
      "Non-trainable params: 0\n",
      "_________________________________________________________________\n"
     ]
    }
   ],
   "source": [
    "#create the model\n",
    "model = tf.keras.Sequential()\n",
    "model.add(tf.keras.layers.Embedding(1000 , 15 , input_length = 25))\n",
    "model.add(tf.keras.layers.Bidirectional(tf.keras.layers.LSTM(64)))\n",
    "model.add(tf.keras.layers.Dense(16 , activation = 'relu'))\n",
    "model.add(tf.keras.layers.Dense(32 , activation = 'relu'))\n",
    "model.add(tf.keras.layers.Dense(16, activation = 'relu'))\n",
    "model.add(tf.keras.layers.Dense(1 , activation = 'sigmoid'))\n",
    "\n",
    "model.compile(loss = 'binary_crossentropy' , optimizer = 'adam', metrics = ['accuracy'])\n",
    "model.summary()"
   ]
  },
  {
   "cell_type": "code",
   "execution_count": 4,
   "id": "702fbecc",
   "metadata": {},
   "outputs": [
    {
     "name": "stdout",
     "output_type": "stream",
     "text": [
      "Epoch 1/30\n",
      "96/96 [==============================] - 4s 7ms/step - loss: 0.6268 - accuracy: 0.6335\n",
      "Epoch 2/30\n",
      "96/96 [==============================] - 1s 7ms/step - loss: 0.4392 - accuracy: 0.8051\n",
      "Epoch 3/30\n",
      "96/96 [==============================] - 1s 7ms/step - loss: 0.4043 - accuracy: 0.8224\n",
      "Epoch 4/30\n",
      "96/96 [==============================] - 1s 7ms/step - loss: 0.3879 - accuracy: 0.8341\n",
      "Epoch 5/30\n",
      "96/96 [==============================] - 1s 7ms/step - loss: 0.3794 - accuracy: 0.8388\n",
      "Epoch 6/30\n",
      "96/96 [==============================] - 1s 7ms/step - loss: 0.3771 - accuracy: 0.8420\n",
      "Epoch 7/30\n",
      "96/96 [==============================] - 1s 7ms/step - loss: 0.3744 - accuracy: 0.8400\n",
      "Epoch 8/30\n",
      "96/96 [==============================] - 1s 7ms/step - loss: 0.3663 - accuracy: 0.8441\n",
      "Epoch 9/30\n",
      "96/96 [==============================] - 1s 8ms/step - loss: 0.3658 - accuracy: 0.8487\n",
      "Epoch 10/30\n",
      "96/96 [==============================] - 1s 7ms/step - loss: 0.3580 - accuracy: 0.8487\n",
      "Epoch 11/30\n",
      "96/96 [==============================] - 1s 7ms/step - loss: 0.3578 - accuracy: 0.8529\n",
      "Epoch 12/30\n",
      "96/96 [==============================] - 1s 8ms/step - loss: 0.3492 - accuracy: 0.8596\n",
      "Epoch 13/30\n",
      "96/96 [==============================] - 1s 7ms/step - loss: 0.3492 - accuracy: 0.8566\n",
      "Epoch 14/30\n",
      "96/96 [==============================] - 1s 7ms/step - loss: 0.3405 - accuracy: 0.8627\n",
      "Epoch 15/30\n",
      "96/96 [==============================] - 1s 7ms/step - loss: 0.3323 - accuracy: 0.8709\n",
      "Epoch 16/30\n",
      "96/96 [==============================] - 1s 7ms/step - loss: 0.3245 - accuracy: 0.8706\n",
      "Epoch 17/30\n",
      "96/96 [==============================] - 1s 7ms/step - loss: 0.3137 - accuracy: 0.8802\n",
      "Epoch 18/30\n",
      "96/96 [==============================] - 1s 7ms/step - loss: 0.3098 - accuracy: 0.8793\n",
      "Epoch 19/30\n",
      "96/96 [==============================] - 1s 7ms/step - loss: 0.2986 - accuracy: 0.8862\n",
      "Epoch 20/30\n",
      "96/96 [==============================] - 1s 7ms/step - loss: 0.2872 - accuracy: 0.8922\n",
      "Epoch 21/30\n",
      "96/96 [==============================] - 1s 7ms/step - loss: 0.2779 - accuracy: 0.8975\n",
      "Epoch 22/30\n",
      "96/96 [==============================] - 1s 7ms/step - loss: 0.2762 - accuracy: 0.8935\n",
      "Epoch 23/30\n",
      "96/96 [==============================] - 1s 7ms/step - loss: 0.2631 - accuracy: 0.9025\n",
      "Epoch 24/30\n",
      "96/96 [==============================] - 1s 7ms/step - loss: 0.2506 - accuracy: 0.9086\n",
      "Epoch 25/30\n",
      "96/96 [==============================] - 1s 7ms/step - loss: 0.2435 - accuracy: 0.9063\n",
      "Epoch 26/30\n",
      "96/96 [==============================] - 1s 7ms/step - loss: 0.2347 - accuracy: 0.9105\n",
      "Epoch 27/30\n",
      "96/96 [==============================] - 1s 7ms/step - loss: 0.2243 - accuracy: 0.9174\n",
      "Epoch 28/30\n",
      "96/96 [==============================] - 1s 7ms/step - loss: 0.2135 - accuracy: 0.9209\n",
      "Epoch 29/30\n",
      "96/96 [==============================] - 1s 7ms/step - loss: 0.2008 - accuracy: 0.9274\n",
      "Epoch 30/30\n",
      "96/96 [==============================] - 1s 7ms/step - loss: 0.1885 - accuracy: 0.9312\n"
     ]
    },
    {
     "name": "stderr",
     "output_type": "stream",
     "text": [
      "WARNING:absl:Found untraced functions such as lstm_cell_1_layer_call_fn, lstm_cell_1_layer_call_and_return_conditional_losses, lstm_cell_2_layer_call_fn, lstm_cell_2_layer_call_and_return_conditional_losses, lstm_cell_1_layer_call_fn while saving (showing 5 of 10). These functions will not be directly callable after loading.\n"
     ]
    },
    {
     "name": "stdout",
     "output_type": "stream",
     "text": [
      "INFO:tensorflow:Assets written to: mymodel\\assets\n"
     ]
    },
    {
     "name": "stderr",
     "output_type": "stream",
     "text": [
      "INFO:tensorflow:Assets written to: mymodel\\assets\n"
     ]
    }
   ],
   "source": [
    "#train the model\n",
    "model.fit(x = dataset , y = numpy.array(labels) , batch_size = 80 , epochs = 30)\n",
    "model.save(\"mymodel\")"
   ]
  },
  {
   "cell_type": "code",
   "execution_count": 5,
   "id": "ad22d0d0",
   "metadata": {},
   "outputs": [
    {
     "name": "stdout",
     "output_type": "stream",
     "text": [
      "tweet : There is a fire!!! at the 23rd street park\n",
      "This tweet contains some information about a disaster\n",
      "\n",
      "\n",
      "tweet : The football team won by a landslide :) \n",
      "This tweet does not contain any information about a disaster\n",
      "\n",
      "\n",
      "tweet : an earthquake just happened in haiti, i'm trapped help me\n",
      "This tweet contains some information about a disaster\n",
      "\n",
      "\n",
      "tweet : Watch me explode a mentos and cola volcalno eruption!!!!\n",
      "This tweet does not contain any information about a disaster\n",
      "\n",
      "\n",
      "tweet : just saw a car crash into a tree\n",
      "This tweet contains some information about a disaster\n"
     ]
    }
   ],
   "source": [
    "def predict(text):\n",
    "    result = model.predict(tf.keras.preprocessing.sequence.pad_sequences(tokenizer.texts_to_sequences([text]),truncating='post', maxlen= 25))\n",
    "    refined_result = result[0][0]\n",
    "    if refined_result >= 0.5 :\n",
    "        return \"This tweet contains some information about a disaster\"\n",
    "    else :\n",
    "        return \"This tweet does not contain any information about a disaster\"\n",
    "    \n",
    "print(\"tweet : There is a fire!!! at the 23rd street park\")\n",
    "print(predict(\"There is a fire!!! at the 23rd street park\"))\n",
    "print(\"\\n\")\n",
    "print(\"tweet : The football team won by a landslide :) \")\n",
    "print(predict(\"tweet : The football team won by a landslide :)\"))\n",
    "print(\"\\n\")\n",
    "print(\"tweet : an earthquake just happened in haiti, i'm trapped help me\")\n",
    "print(predict(\"an earthquake just happened in haiti, i'm trapped help me\"))\n",
    "print(\"\\n\")\n",
    "print(\"tweet : Watch me explode a mentos and cola volcalno eruption!!!!\")\n",
    "print(predict(\"Watch me explode mentos and cola volcalno eruption!!!!\"))\n",
    "print(\"\\n\")\n",
    "print(\"tweet : just saw a car crash into a tree\")\n",
    "print(predict(\"just saw a car crash into a tree! :(\"))"
   ]
  }
 ],
 "metadata": {
  "kernelspec": {
   "display_name": "Python 3 (ipykernel)",
   "language": "python",
   "name": "python3"
  },
  "language_info": {
   "codemirror_mode": {
    "name": "ipython",
    "version": 3
   },
   "file_extension": ".py",
   "mimetype": "text/x-python",
   "name": "python",
   "nbconvert_exporter": "python",
   "pygments_lexer": "ipython3",
   "version": "3.9.7"
  }
 },
 "nbformat": 4,
 "nbformat_minor": 5
}
